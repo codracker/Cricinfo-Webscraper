{
 "cells": [
  {
   "cell_type": "code",
   "execution_count": 1,
   "metadata": {},
   "outputs": [],
   "source": [
    "import urllib.request, urllib.parse, urllib.error\n",
    "from bs4 import BeautifulSoup\n",
    "import ssl\n",
    "import pandas as pd\n",
    "from collections import OrderedDict\n",
    "from pandas import ExcelWriter\n",
    "from pandas import ExcelFile"
   ]
  },
  {
   "cell_type": "code",
   "execution_count": 2,
   "metadata": {},
   "outputs": [],
   "source": [
    "ctx = ssl.create_default_context()\n",
    "ctx.check_hostname = False\n",
    "ctx.verify_mode = ssl.CERT_NONE"
   ]
  },
  {
   "cell_type": "code",
   "execution_count": 3,
   "metadata": {},
   "outputs": [],
   "source": [
    "url=\"http://stats.espncricinfo.com/ci/engine/player/28081.html?class=2;template=results;type=batting;view=innings\"\n",
    "html = urllib.request.urlopen(url, context=ctx).read()"
   ]
  },
  {
   "cell_type": "code",
   "execution_count": 4,
   "metadata": {},
   "outputs": [],
   "source": [
    "temp_data=OrderedDict()\n",
    "list_of_dict=[]\n",
    "bs=BeautifulSoup(html, \"lxml\")\n",
    "table_body=bs('tbody')"
   ]
  },
  {
   "cell_type": "code",
   "execution_count": 5,
   "metadata": {},
   "outputs": [],
   "source": [
    "table_body_1 = table_body[0]"
   ]
  },
  {
   "cell_type": "code",
   "execution_count": 6,
   "metadata": {},
   "outputs": [],
   "source": [
    "rows = table_body_1('tr')\n",
    "for row in rows:\n",
    "    cols=row.find_all('td')\n",
    "    cols=[x.text.strip() for x in cols]\n",
    "    temp_data=OrderedDict()\n",
    "    for i in range(len(cols)):\n",
    "        temp_data[\"Overall\"]=cols[0]\n",
    "        temp_data[\"Span\"]=cols[1]\n",
    "        temp_data[\"Matches\"]=cols[2]\n",
    "        temp_data[\"Innings\"]=cols[3]\n",
    "        temp_data[\"NO\"]=cols[4]\n",
    "        temp_data[\"Runs\"]=cols[5]\n",
    "        temp_data[\"HS\"]=cols[6]\n",
    "        temp_data[\"Average\"]=cols[7]\n",
    "        temp_data[\"BF\"]=cols[8]\n",
    "        temp_data[\"Strike Rate\"]=cols[9]\n",
    "        temp_data[\"100\"] = cols[10]\n",
    "        temp_data[\"50\"] = cols[11]\n",
    "        temp_data[\"0\"] = cols[12]\n",
    "        temp_data[\"4's\"] = cols[13]\n",
    "        temp_data[\"6's\"] = cols[14]\n",
    "    list_of_dict.append(temp_data)"
   ]
  },
  {
   "cell_type": "code",
   "execution_count": 7,
   "metadata": {},
   "outputs": [],
   "source": [
    "df=pd.DataFrame(list_of_dict)"
   ]
  },
  {
   "cell_type": "code",
   "execution_count": 8,
   "metadata": {},
   "outputs": [
    {
     "data": {
      "text/html": [
       "<div>\n",
       "<style scoped>\n",
       "    .dataframe tbody tr th:only-of-type {\n",
       "        vertical-align: middle;\n",
       "    }\n",
       "\n",
       "    .dataframe tbody tr th {\n",
       "        vertical-align: top;\n",
       "    }\n",
       "\n",
       "    .dataframe thead th {\n",
       "        text-align: right;\n",
       "    }\n",
       "</style>\n",
       "<table border=\"1\" class=\"dataframe\">\n",
       "  <thead>\n",
       "    <tr style=\"text-align: right;\">\n",
       "      <th></th>\n",
       "      <th>Overall</th>\n",
       "      <th>Span</th>\n",
       "      <th>Matches</th>\n",
       "      <th>Innings</th>\n",
       "      <th>NO</th>\n",
       "      <th>Runs</th>\n",
       "      <th>HS</th>\n",
       "      <th>Average</th>\n",
       "      <th>BF</th>\n",
       "      <th>Strike Rate</th>\n",
       "      <th>100</th>\n",
       "      <th>50</th>\n",
       "      <th>0</th>\n",
       "      <th>4's</th>\n",
       "      <th>6's</th>\n",
       "    </tr>\n",
       "  </thead>\n",
       "  <tbody>\n",
       "    <tr>\n",
       "      <td>0</td>\n",
       "      <td>overall</td>\n",
       "      <td>2004-2019</td>\n",
       "      <td>350</td>\n",
       "      <td>297</td>\n",
       "      <td>84</td>\n",
       "      <td>10773</td>\n",
       "      <td>183*</td>\n",
       "      <td>50.57</td>\n",
       "      <td>12303</td>\n",
       "      <td>87.56</td>\n",
       "      <td>10</td>\n",
       "      <td>73</td>\n",
       "      <td>10</td>\n",
       "      <td>826</td>\n",
       "      <td>229</td>\n",
       "    </tr>\n",
       "  </tbody>\n",
       "</table>\n",
       "</div>"
      ],
      "text/plain": [
       "   Overall       Span Matches Innings  NO   Runs    HS Average     BF  \\\n",
       "0  overall  2004-2019     350     297  84  10773  183*   50.57  12303   \n",
       "\n",
       "  Strike Rate 100  50   0  4's  6's  \n",
       "0       87.56  10  73  10  826  229  "
      ]
     },
     "execution_count": 8,
     "metadata": {},
     "output_type": "execute_result"
    }
   ],
   "source": [
    "df"
   ]
  },
  {
   "cell_type": "code",
   "execution_count": 9,
   "metadata": {},
   "outputs": [],
   "source": [
    "writer = ExcelWriter('ms-dhoni.xlsx')\n",
    "df.to_excel(writer,'Sheet1',index=False)\n",
    "writer.save()"
   ]
  },
  {
   "cell_type": "code",
   "execution_count": null,
   "metadata": {},
   "outputs": [],
   "source": []
  }
 ],
 "metadata": {
  "kernelspec": {
   "display_name": "Python 3",
   "language": "python",
   "name": "python3"
  },
  "language_info": {
   "codemirror_mode": {
    "name": "ipython",
    "version": 3
   },
   "file_extension": ".py",
   "mimetype": "text/x-python",
   "name": "python",
   "nbconvert_exporter": "python",
   "pygments_lexer": "ipython3",
   "version": "3.7.4"
  }
 },
 "nbformat": 4,
 "nbformat_minor": 2
}
